{
  "cells": [
    {
      "cell_type": "markdown",
      "metadata": {
        "id": "view-in-github",
        "colab_type": "text"
      },
      "source": [
        "<a href=\"https://colab.research.google.com/github/HanselWilfred/WeatherWise-Hansel-Wilfred/blob/main/starter_notebook.ipynb\" target=\"_parent\"><img src=\"https://colab.research.google.com/assets/colab-badge.svg\" alt=\"Open In Colab\"/></a>"
      ]
    },
    {
      "cell_type": "markdown",
      "id": "fa8c7f6c",
      "metadata": {
        "id": "fa8c7f6c"
      },
      "source": [
        "## 🧰 Setup and Imports\n",
        "\n",
        "This section imports commonly used packages and installs any additional tools used in the project.\n",
        "\n",
        "- You may not need all of these unless you're using specific features (e.g. visualisations, advanced prompting).\n",
        "- The notebook assumes the following packages are **pre-installed** in the provided environment or installable via pip:\n",
        "  - `requests`, `matplotlib`, `pyinputplus`\n",
        "  - `fetch-my-weather` (for accessing weather data easily)\n",
        "  - `hands-on-ai` (for AI logging, comparisons, or prompting tools)\n",
        "\n",
        "If you're running this notebook in **Google Colab**, uncomment the following lines to install the required packages.\n"
      ]
    },
    {
      "cell_type": "code",
      "execution_count": 1,
      "id": "70c3f3f1",
      "metadata": {
        "id": "70c3f3f1",
        "collapsed": true,
        "outputId": "5669fbda-cbc6-4eee-fa05-83929f12e819",
        "colab": {
          "base_uri": "https://localhost:8080/"
        }
      },
      "outputs": [
        {
          "output_type": "stream",
          "name": "stdout",
          "text": [
            "Requirement already satisfied: fetch-my-weather in /usr/local/lib/python3.12/dist-packages (0.4.0)\n",
            "Requirement already satisfied: requests>=2.25.0 in /usr/local/lib/python3.12/dist-packages (from fetch-my-weather) (2.32.4)\n",
            "Requirement already satisfied: pydantic>=1.8.0 in /usr/local/lib/python3.12/dist-packages (from fetch-my-weather) (2.11.9)\n",
            "Requirement already satisfied: annotated-types>=0.6.0 in /usr/local/lib/python3.12/dist-packages (from pydantic>=1.8.0->fetch-my-weather) (0.7.0)\n",
            "Requirement already satisfied: pydantic-core==2.33.2 in /usr/local/lib/python3.12/dist-packages (from pydantic>=1.8.0->fetch-my-weather) (2.33.2)\n",
            "Requirement already satisfied: typing-extensions>=4.12.2 in /usr/local/lib/python3.12/dist-packages (from pydantic>=1.8.0->fetch-my-weather) (4.15.0)\n",
            "Requirement already satisfied: typing-inspection>=0.4.0 in /usr/local/lib/python3.12/dist-packages (from pydantic>=1.8.0->fetch-my-weather) (0.4.2)\n",
            "Requirement already satisfied: charset_normalizer<4,>=2 in /usr/local/lib/python3.12/dist-packages (from requests>=2.25.0->fetch-my-weather) (3.4.3)\n",
            "Requirement already satisfied: idna<4,>=2.5 in /usr/local/lib/python3.12/dist-packages (from requests>=2.25.0->fetch-my-weather) (3.10)\n",
            "Requirement already satisfied: urllib3<3,>=1.21.1 in /usr/local/lib/python3.12/dist-packages (from requests>=2.25.0->fetch-my-weather) (2.5.0)\n",
            "Requirement already satisfied: certifi>=2017.4.17 in /usr/local/lib/python3.12/dist-packages (from requests>=2.25.0->fetch-my-weather) (2025.8.3)\n",
            "Requirement already satisfied: requests in /usr/local/lib/python3.12/dist-packages (2.32.4)\n",
            "Requirement already satisfied: matplotlib in /usr/local/lib/python3.12/dist-packages (3.10.0)\n",
            "Requirement already satisfied: pyinputplus in /usr/local/lib/python3.12/dist-packages (0.2.12)\n",
            "Requirement already satisfied: charset_normalizer<4,>=2 in /usr/local/lib/python3.12/dist-packages (from requests) (3.4.3)\n",
            "Requirement already satisfied: idna<4,>=2.5 in /usr/local/lib/python3.12/dist-packages (from requests) (3.10)\n",
            "Requirement already satisfied: urllib3<3,>=1.21.1 in /usr/local/lib/python3.12/dist-packages (from requests) (2.5.0)\n",
            "Requirement already satisfied: certifi>=2017.4.17 in /usr/local/lib/python3.12/dist-packages (from requests) (2025.8.3)\n",
            "Requirement already satisfied: contourpy>=1.0.1 in /usr/local/lib/python3.12/dist-packages (from matplotlib) (1.3.3)\n",
            "Requirement already satisfied: cycler>=0.10 in /usr/local/lib/python3.12/dist-packages (from matplotlib) (0.12.1)\n",
            "Requirement already satisfied: fonttools>=4.22.0 in /usr/local/lib/python3.12/dist-packages (from matplotlib) (4.60.1)\n",
            "Requirement already satisfied: kiwisolver>=1.3.1 in /usr/local/lib/python3.12/dist-packages (from matplotlib) (1.4.9)\n",
            "Requirement already satisfied: numpy>=1.23 in /usr/local/lib/python3.12/dist-packages (from matplotlib) (2.0.2)\n",
            "Requirement already satisfied: packaging>=20.0 in /usr/local/lib/python3.12/dist-packages (from matplotlib) (25.0)\n",
            "Requirement already satisfied: pillow>=8 in /usr/local/lib/python3.12/dist-packages (from matplotlib) (11.3.0)\n",
            "Requirement already satisfied: pyparsing>=2.3.1 in /usr/local/lib/python3.12/dist-packages (from matplotlib) (3.2.5)\n",
            "Requirement already satisfied: python-dateutil>=2.7 in /usr/local/lib/python3.12/dist-packages (from matplotlib) (2.9.0.post0)\n",
            "Requirement already satisfied: pysimplevalidate>=0.2.7 in /usr/local/lib/python3.12/dist-packages (from pyinputplus) (0.2.12)\n",
            "Requirement already satisfied: stdiomask>=0.0.3 in /usr/local/lib/python3.12/dist-packages (from pyinputplus) (0.0.6)\n",
            "Requirement already satisfied: six>=1.5 in /usr/local/lib/python3.12/dist-packages (from python-dateutil>=2.7->matplotlib) (1.17.0)\n"
          ]
        }
      ],
      "source": [
        "# 🧪 Optional packages — uncomment if needed in Colab or JupyterHub\n",
        "!pip install fetch-my-weather\n",
        "!pip install requests matplotlib pyinputplus\n",
        "\n",
        "\n",
        "\n"
      ]
    },
    {
      "cell_type": "markdown",
      "id": "59ae7543",
      "metadata": {
        "id": "59ae7543"
      },
      "source": [
        "## 📦 Setup and Configuration\n",
        "Import required packages and setup environment."
      ]
    },
    {
      "cell_type": "code",
      "execution_count": 2,
      "id": "f1dd051e",
      "metadata": {
        "id": "f1dd051e"
      },
      "outputs": [],
      "source": [
        "import requests\n",
        "import matplotlib.pyplot as plt\n",
        "import pyinputplus as pyip\n",
        "# ✅ Import after installing (if needed)\n",
        "from fetch_my_weather import get_weather\n",
        "\n",
        "# Add any other setup code here"
      ]
    },
    {
      "cell_type": "markdown",
      "id": "f736ade3",
      "metadata": {
        "id": "f736ade3"
      },
      "source": [
        "## 🌤️ Weather Data Functions"
      ]
    },
    {
      "cell_type": "code",
      "execution_count": 17,
      "id": "7a2c7cd0",
      "metadata": {
        "id": "7a2c7cd0"
      },
      "outputs": [],
      "source": [
        "# === Section 1: Data Fetching ===\n",
        "import re, requests\n",
        "from datetime import datetime\n",
        "\n",
        "def format_date(d: str) -> str:\n",
        "    try:\n",
        "        return datetime.strptime(d, \"%Y-%m-%d\").strftime(\"%d %b %Y\")\n",
        "        # use \"%d %B %Y\" for full month name\n",
        "    except Exception:\n",
        "        return d\n",
        "\n",
        "\n",
        "def get_weather_data(place: str, rain_threshold: int = 30):\n",
        "    \"\"\"\n",
        "    On success:\n",
        "      {\n",
        "        \"location\": str,\n",
        "        \"current_temp\": float|None,\n",
        "        \"forecast\": [\n",
        "          {\"date\": str, \"max_temp\": float|None, \"min_temp\": float|None,\n",
        "           \"rain_chance\": float|None, \"emoji\": str, \"rain_text\": str}\n",
        "        ],\n",
        "        \"summary\": [str, ...]\n",
        "      }\n",
        "    Or: {\"error\": \"message\"}\n",
        "    \"\"\"\n",
        "    def _clean(s: str | None) -> str | None:\n",
        "        if not s: return None\n",
        "        s = re.sub(r\"\\b(tomorrow|today|day after|in\\s+\\d+\\s+days)\\b\", \"\", s, flags=re.I)\n",
        "        s = re.sub(r\"\\s+\", \" \", s).strip()\n",
        "        return s or None\n",
        "\n",
        "    def _emoji(t):\n",
        "        try: t = float(t)\n",
        "        except (TypeError, ValueError): return \"\"\n",
        "        return \"🔥\" if t >= 35 else (\"🙂\" if t >= 15 else \"🥶\")\n",
        "\n",
        "    loc = _clean(place)\n",
        "    if not loc:\n",
        "        return {\"error\": \"Please enter a valid city or PIN/ZIP.\"}\n",
        "\n",
        "    try:\n",
        "        # Geocode\n",
        "        r = requests.get(\n",
        "            \"https://geocoding-api.open-meteo.com/v1/search\",\n",
        "            params={\"name\": loc, \"count\": 1, \"language\": \"en\"},\n",
        "            timeout=10\n",
        "        ); r.raise_for_status()\n",
        "        hits = (r.json().get(\"results\") or [])\n",
        "        if not hits:\n",
        "            return {\"error\": f\"Could not find '{loc}'. Please try another place.\"}\n",
        "        lat, lon = hits[0][\"latitude\"], hits[0][\"longitude\"]\n",
        "        city = hits[0].get(\"name\") or loc\n",
        "\n",
        "        # Forecast + current\n",
        "        r = requests.get(\n",
        "            \"https://api.open-meteo.com/v1/forecast\",\n",
        "            params={\n",
        "                \"latitude\": lat, \"longitude\": lon, \"timezone\": \"auto\",\n",
        "                \"current_weather\": True,\n",
        "                \"daily\": \"temperature_2m_max,temperature_2m_min,precipitation_probability_max\",\n",
        "            },\n",
        "            timeout=10\n",
        "        ); r.raise_for_status()\n",
        "        data = r.json()\n",
        "        daily = data.get(\"daily\") or {}\n",
        "        dates = daily.get(\"time\") or []\n",
        "        if not dates:\n",
        "            return {\"error\": \"No forecast available right now. Try again later.\"}\n",
        "\n",
        "        tmax  = daily.get(\"temperature_2m_max\") or []\n",
        "        tmin  = daily.get(\"temperature_2m_min\") or []\n",
        "        rainp = daily.get(\"precipitation_probability_max\") or []\n",
        "        n = min(5, len(dates))\n",
        "\n",
        "        rows, summary = [], [f\"5-day forecast for {city}:\"]\n",
        "        for i in range(n):\n",
        "            mx = tmax[i]  if i < len(tmax)  else None\n",
        "            mn = tmin[i]  if i < len(tmin)  else None\n",
        "            rc = rainp[i] if i < len(rainp) else None\n",
        "            emo = _emoji(mx if mx is not None else mn)\n",
        "            rain_txt = f\"(rain {int(rc)}%)\" if isinstance(rc, (int, float)) and rc >= rain_threshold else \"\"\n",
        "            rows.append({\"date\": dates[i], \"max_temp\": mx, \"min_temp\": mn,\n",
        "                         \"rain_chance\": rc, \"emoji\": emo, \"rain_text\": rain_txt})\n",
        "            temp_txt = f\"{round(mx)}°C {emo}\" if mx is not None else \"temp N/A\"\n",
        "            summary.append(f\"{dates[i]}: {temp_txt} {rain_txt}\".rstrip())\n",
        "\n",
        "        return {\n",
        "            \"location\": city,\n",
        "            \"current_temp\": (data.get(\"current_weather\") or {}).get(\"temperature\"),\n",
        "            \"forecast\": rows,\n",
        "            \"summary\": summary\n",
        "        }\n",
        "\n",
        "    except (requests.ConnectionError, requests.Timeout):\n",
        "        return {\"error\": \"No internet connection. Please connect to Wi-Fi or mobile data.\"}\n",
        "    except requests.RequestException:\n",
        "        return {\"error\": \"Something went wrong while fetching the weather.\"}\n",
        "\n",
        "\n"
      ]
    },
    {
      "cell_type": "markdown",
      "id": "8a744fdc",
      "metadata": {
        "id": "8a744fdc"
      },
      "source": [
        "## 📊 Visualisation Functions"
      ]
    },
    {
      "cell_type": "code",
      "execution_count": 19,
      "id": "9dc3bf85",
      "metadata": {
        "id": "9dc3bf85"
      },
      "outputs": [],
      "source": [
        "# === UI (A): helpers & visualisations (REPLACE WHOLE CELL) ===\n",
        "\n",
        "def print_forecast(result: dict):\n",
        "    if \"error\" in result:\n",
        "        print(f\"⚠️ {result['error']}\"); return\n",
        "    print(f\"📍 {result['location']} | 🌡️ {result.get('current_temp','N/A')}°C\")\n",
        "    for f in result[\"forecast\"]:\n",
        "        pick = f[\"max_temp\"] if f[\"max_temp\"] is not None else f[\"min_temp\"]\n",
        "        emoji = \"🔥\" if (pick is not None and pick >= 35) else (\"🙂\" if (pick is not None and pick >= 15) else \"🥶\")\n",
        "        fd = format_date(f['date'])  # <-- formatted date\n",
        "        if f[\"min_temp\"] is not None and f[\"max_temp\"] is not None:\n",
        "            line = f\"{fd}: {f['min_temp']:.1f}–{f['max_temp']:.1f}°C {emoji}\"\n",
        "        elif f[\"max_temp\"] is not None:\n",
        "            line = f\"{fd}: {f['max_temp']:.1f}°C {emoji}\"\n",
        "        else:\n",
        "            line = f\"{fd}: temp N/A {emoji}\"\n",
        "        if f.get(\"rain_text\"): line += f\" {f['rain_text']}\"\n",
        "        print(line)\n",
        "\n",
        "def create_temperature_visualisation(result: dict):\n",
        "    \"\"\"Shaded min–max band + lines.\"\"\"\n",
        "    if \"error\" in result or not result.get(\"forecast\"):\n",
        "        print(\"No data to visualise.\"); return\n",
        "    try:\n",
        "        import matplotlib.pyplot as plt\n",
        "    except Exception:\n",
        "        print(\"📉 Matplotlib not available.\"); return\n",
        "    fc = result[\"forecast\"]\n",
        "    xs = list(range(len(fc)))\n",
        "    dates = [format_date(r[\"date\"]) for r in fc]  # <-- formatted dates\n",
        "    tmin  = [r[\"min_temp\"] for r in fc]\n",
        "    tmax  = [r[\"max_temp\"] for r in fc]\n",
        "    plt.figure(figsize=(8,4.5))\n",
        "    plt.fill_between(xs, tmin, tmax, alpha=0.25, label=\"Daily range\")\n",
        "    plt.plot(xs, tmax, marker=\"o\", label=\"Max (°C)\")\n",
        "    plt.plot(xs, tmin, marker=\"o\", label=\"Min (°C)\")\n",
        "    plt.title(f\"Temperature (Min–Max) — {result['location']}\")\n",
        "    plt.xlabel(\"Day\"); plt.ylabel(\"°C\"); plt.xticks(xs, dates)\n",
        "    plt.grid(True, linestyle=\"--\", alpha=0.5); plt.legend(); plt.tight_layout(); plt.show()\n",
        "\n",
        "\n",
        "\n",
        "\n"
      ]
    },
    {
      "cell_type": "code",
      "source": [
        "\n",
        "# ------------------------------\n",
        "# 2) Rain \"lollipop\" chart: stem + circle with % label\n",
        "def create_precipitation_visualisation(result: dict):\n",
        "    \"\"\"Rain chance lollipop chart.\"\"\"\n",
        "    if \"error\" in result or not result.get(\"forecast\"):\n",
        "        print(\"No data to visualise.\"); return\n",
        "    try:\n",
        "        import matplotlib.pyplot as plt\n",
        "    except Exception:\n",
        "        print(\"📉 Matplotlib not available.\"); return\n",
        "    fc = result[\"forecast\"]\n",
        "    xs = list(range(len(fc)))\n",
        "    dates = [format_date(r[\"date\"]) for r in fc]  # <-- formatted dates\n",
        "    rainp = [r[\"rain_chance\"] if isinstance(r[\"rain_chance\"], (int, float)) else 0 for r in fc]\n",
        "    plt.figure(figsize=(8,4.5))\n",
        "    for x, v in zip(xs, rainp):\n",
        "        plt.vlines(x, 0, v, linewidth=2)\n",
        "        plt.scatter(x, v, s=60, zorder=3)\n",
        "        plt.text(x, v + 2, f\"{int(v)}%\", ha=\"center\", fontsize=8)\n",
        "    plt.title(f\"Rain Chance — {result['location']}\")\n",
        "    plt.xlabel(\"Day\"); plt.ylabel(\"Rain Chance (%)\"); plt.xticks(xs, dates)\n",
        "    plt.ylim(0, 100); plt.grid(axis=\"y\", linestyle=\"--\", alpha=0.5); plt.tight_layout(); plt.show()\n"
      ],
      "metadata": {
        "id": "HpOlQylYG5Ho"
      },
      "id": "HpOlQylYG5Ho",
      "execution_count": 20,
      "outputs": []
    },
    {
      "cell_type": "markdown",
      "id": "9f95d160",
      "metadata": {
        "id": "9f95d160"
      },
      "source": [
        "## 🤖 Natural Language Processing"
      ]
    },
    {
      "cell_type": "code",
      "execution_count": 21,
      "id": "bcc5833e",
      "metadata": {
        "id": "bcc5833e"
      },
      "outputs": [],
      "source": [
        "# === Section 2: NLP + Response ===\n",
        "\n",
        "# === Section 2: NLP + Response (with formatted dates) ===\n",
        "import re\n",
        "\n",
        "def _clean_location(text: str) -> str | None:\n",
        "    if not text: return None\n",
        "    text = re.sub(r\"\\b(tomorrow|today|day after|in\\s+\\d+\\s+days)\\b\", \"\", text, flags=re.I)\n",
        "    text = re.sub(r\"\\s+\", \" \", text).strip()\n",
        "    return text.title() if text else None\n",
        "\n",
        "def parse_weather_question(q: str):\n",
        "    q = (q or \"\").lower().strip()\n",
        "\n",
        "    # Day: today=0, tomorrow=1, day after=2, or \"in N days\" clamped 0..4\n",
        "    day = 2 if \"day after\" in q else 1 if \"tomorrow\" in q else 0\n",
        "    m = re.search(r\"\\bin\\s+(\\d+)\\s+days\\b\", q)\n",
        "    if m:\n",
        "        day = max(0, min(4, int(m.group(1))))\n",
        "\n",
        "    # Attribute: rain-only if rain words; temperature-only if temp words; else general\n",
        "    if any(w in q for w in [\"rain\",\"umbrella\",\"drizzle\",\"shower\"]):\n",
        "        attr = \"rain\"\n",
        "    elif any(w in q for w in [\"temp\",\"temperature\",\"hot\",\"cold\",\"warm\",\"cool\",\"chill\"]):\n",
        "        attr = \"temperature\"\n",
        "    else:\n",
        "        attr = \"general\"\n",
        "\n",
        "    # Location: PIN/ZIP first\n",
        "    pin = re.search(r\"\\b\\d{3,6}\\b\", q)\n",
        "    if pin:\n",
        "        return {\"location\": pin.group(0), \"day\": day, \"attribute\": attr}\n",
        "\n",
        "    # Or words after \"in ...\" (stop before punctuation/time words)\n",
        "    m = re.search(\n",
        "        r\"\\bin\\s+([a-z0-9\\s\\-]+?)(?=(?:\\?|\\.|,|$|\\s+tomorrow|\\s+today|\\s+day after|\\s+in\\s+\\d+\\s+days))\",\n",
        "        q\n",
        "    )\n",
        "    loc = _clean_location(m.group(1)) if m else None\n",
        "    return {\"location\": loc, \"day\": day, \"attribute\": attr}\n",
        "\n",
        "def generate_weather_response(user_question: str, fetch_fn):\n",
        "    \"\"\"\n",
        "    fetch_fn(place) -> {\"error\":\"...\"} or {\"location\":..., \"forecast\":[{date,max_temp,min_temp,rain_chance},...]}\n",
        "    \"\"\"\n",
        "    info = parse_weather_question(user_question)\n",
        "    place, day, attr = info[\"location\"], info[\"day\"], info[\"attribute\"]\n",
        "    if not place:\n",
        "        return \"Please tell me a city or PIN/ZIP (e.g., 'weather in Perth').\"\n",
        "\n",
        "    data = fetch_fn(place)\n",
        "    if \"error\" in data:\n",
        "        return data[\"error\"]\n",
        "\n",
        "    fc = data.get(\"forecast\") or []\n",
        "    if not fc:\n",
        "        return \"No forecast available right now.\"\n",
        "\n",
        "    # Choose the requested day (clamped)\n",
        "    i = min(day, len(fc) - 1)\n",
        "    row = fc[i]\n",
        "    city = data.get(\"location\", place)\n",
        "    date = row.get(\"date\", \"that day\")\n",
        "    date = format_date(date)  # <-- format date as DD Mon YYYY\n",
        "\n",
        "    mx, mn, rc = row.get(\"max_temp\"), row.get(\"min_temp\"), row.get(\"rain_chance\")\n",
        "    t = mx if mx is not None else mn\n",
        "\n",
        "    # 35+ hot, 15..34 cool, <15 cold\n",
        "    def temp_phrase(x):\n",
        "        if x is None: return \"temperature unavailable\"\n",
        "        return \"hot and sunny\" if x >= 35 else (\"cool and pleasant\" if x >= 15 else \"cold\")\n",
        "\n",
        "    def rain_only(x):\n",
        "        if x is None: return \"No rain info.\"\n",
        "        return (\"Yes, likely — rain \"+str(int(x))+\"%.\") if x >= 50 else \\\n",
        "               (\"Possible — rain \"+str(int(x))+\"%.\") if x >= 20 else \\\n",
        "               (\"Unlikely — rain \"+str(int(x))+\"%.\")\n",
        "\n",
        "    if attr == \"rain\":\n",
        "        return f\"In {city} on {date}: {rain_only(rc)}\"\n",
        "    elif attr == \"temperature\":\n",
        "        msg = f\"In {city} on {date}: {temp_phrase(t)}\"\n",
        "        msg += f\" (around {round(t)}°C)\" if t is not None else \"\"\n",
        "        if isinstance(rc,(int,float)) and rc >= 30:\n",
        "            msg += f\", rain {int(rc)}%.\"\n",
        "        else:\n",
        "            msg += \".\"\n",
        "        return msg\n",
        "    else:  # general\n",
        "        msg = f\"In {city} on {date}: {temp_phrase(t)}\"\n",
        "        msg += f\" (around {round(t)}°C)\" if t is not None else \"\"\n",
        "        if isinstance(rc,(int,float)) and rc >= 30:\n",
        "            msg += f\"; rain {int(rc)}%.\"\n",
        "        else:\n",
        "            msg += \".\"\n",
        "        return msg\n"
      ]
    },
    {
      "cell_type": "markdown",
      "id": "0d85225e",
      "metadata": {
        "id": "0d85225e"
      },
      "source": [
        "## 🧭 User Interface"
      ]
    },
    {
      "cell_type": "code",
      "execution_count": 18,
      "id": "fa6cb0f6",
      "metadata": {
        "id": "fa6cb0f6"
      },
      "outputs": [],
      "source": [
        "# === UI (A): helpers & visualisations ===\n",
        "\n",
        "def print_forecast(result: dict):\n",
        "    if \"error\" in result:\n",
        "        print(f\"⚠️ {result['error']}\"); return\n",
        "    print(f\"📍 {result['location']} | 🌡️ {result.get('current_temp','N/A')}°C\")\n",
        "    for f in result[\"forecast\"]:\n",
        "        pick = f[\"max_temp\"] if f[\"max_temp\"] is not None else f[\"min_temp\"]\n",
        "        emoji = \"🔥\" if (pick is not None and pick >= 35) else (\"🙂\" if (pick is not None and pick >= 15) else \"🥶\")\n",
        "        fd = format_date(f['date'])  # add this line\n",
        "        if f[\"min_temp\"] is not None and f[\"max_temp\"] is not None:\n",
        "            line = f\"{f['date']}: {f['min_temp']:.1f}–{f['max_temp']:.1f}°C {emoji}\"\n",
        "        elif f[\"max_temp\"] is not None:\n",
        "            line = f\"{f['date']}: {f['max_temp']:.1f}°C {emoji}\"\n",
        "        else:\n",
        "            line = f\"{f['date']}: temp N/A {emoji}\"\n",
        "        if f.get(\"rain_text\"): line += f\" {f['rain_text']}\"\n",
        "        print(line)\n",
        "\n",
        "def create_temperature_visualisation(result: dict):\n",
        "    \"\"\"Shaded min–max band + lines.\"\"\"\n",
        "    if \"error\" in result or not result.get(\"forecast\"):\n",
        "        print(\"No data to visualise.\"); return\n",
        "    try:\n",
        "        import matplotlib.pyplot as plt\n",
        "    except Exception:\n",
        "        print(\"📉 Matplotlib not available.\"); return\n",
        "    fc = result[\"forecast\"]\n",
        "    xs = list(range(len(fc)))\n",
        "    dates = [r[\"date\"] for r in fc]\n",
        "    tmin  = [r[\"min_temp\"] for r in fc]\n",
        "    tmax  = [r[\"max_temp\"] for r in fc]\n",
        "    plt.figure(figsize=(8,4.5))\n",
        "    plt.fill_between(xs, tmin, tmax, alpha=0.25, label=\"Daily range\")\n",
        "    plt.plot(xs, tmax, marker=\"o\", label=\"Max (°C)\")\n",
        "    plt.plot(xs, tmin, marker=\"o\", label=\"Min (°C)\")\n",
        "    plt.title(f\"Temperature (Min–Max) — {result['location']}\")\n",
        "    plt.xlabel(\"Day\"); plt.ylabel(\"°C\"); plt.xticks(xs, dates)\n",
        "    plt.grid(True, linestyle=\"--\", alpha=0.5); plt.legend(); plt.tight_layout(); plt.show()\n",
        "\n",
        "def create_precipitation_visualisation(result: dict):\n",
        "    \"\"\"Rain chance lollipop chart.\"\"\"\n",
        "    if \"error\" in result or not result.get(\"forecast\"):\n",
        "        print(\"No data to visualise.\"); return\n",
        "    try:\n",
        "        import matplotlib.pyplot as plt\n",
        "    except Exception:\n",
        "        print(\"📉 Matplotlib not available.\"); return\n",
        "    fc = result[\"forecast\"]\n",
        "    xs = list(range(len(fc)))\n",
        "    dates = [r[\"date\"] for r in fc]\n",
        "    rainp = [r[\"rain_chance\"] if isinstance(r[\"rain_chance\"], (int, float)) else 0 for r in fc]\n",
        "    plt.figure(figsize=(8,4.5))\n",
        "    for x, v in zip(xs, rainp):\n",
        "        plt.vlines(x, 0, v, linewidth=2)\n",
        "        plt.scatter(x, v, s=60, zorder=3)\n",
        "        plt.text(x, v + 2, f\"{int(v)}%\", ha=\"center\", fontsize=8)\n",
        "    plt.title(f\"Rain Chance — {result['location']}\")\n",
        "    plt.xlabel(\"Day\"); plt.ylabel(\"Rain Chance (%)\"); plt.xticks(xs, dates)\n",
        "    plt.ylim(0, 100); plt.grid(axis=\"y\", linestyle=\"--\", alpha=0.5); plt.tight_layout(); plt.show()\n",
        "\n",
        "def create_both_visualisations(result: dict):\n",
        "    \"\"\"Show temperature chart, then rain chart.\"\"\"\n",
        "    create_temperature_visualisation(result)\n",
        "    create_precipitation_visualisation(result)"
      ]
    },
    {
      "cell_type": "code",
      "metadata": {
        "id": "dd9e1666"
      },
      "source": [
        "# === UI (B): main menu loop (no main_menu needed) ===\n",
        "def run_app():\n",
        "    print(\"🌦️ Welcome to WeatherWise 🌦️\")\n",
        "    print(\"👉 You can enter either a city name (e.g., Perth, Sydney) OR a PIN/ZIP code (e.g., 6000, 10001).\")\n",
        "    while True:\n",
        "        print(\"\\nPlease select one of the following:\")\n",
        "        print(\"1. View Forecast\")\n",
        "        print(\"2. Ask a Question\")\n",
        "        print(\"3. Visualise Data\")\n",
        "        print(\"4. Exit\")\n",
        "        choice = input(\"> \").strip()\n",
        "\n",
        "        if choice == \"1\":\n",
        "            place = input(\"Enter a city: \").strip()\n",
        "            result = get_weather_data(place)\n",
        "            print_forecast(result)\n",
        "\n",
        "        elif choice == \"2\":\n",
        "            q = input(\"Ask me about the weather: \").strip()  # e.g., \"will it rain tomorrow?\"\n",
        "            place = input(\"Which city or PIN/ZIP? (e.g., Chennai or 6000): \").strip()\n",
        "            q_full = f\"{q} in {place}\"\n",
        "            answer = generate_weather_response(q_full, get_weather_data)\n",
        "            print(answer)\n",
        "\n",
        "        elif choice == \"3\":\n",
        "            place = input(\"Enter a city to visualise: \").strip()\n",
        "            result = get_weather_data(place)\n",
        "            if \"error\" in result:\n",
        "                print(f\"⚠️ {result['error']}\")\n",
        "                continue\n",
        "            print(\"Visualise:\")\n",
        "            print(\"  1) Temperature\")\n",
        "            print(\"  2) Rain Chance\")\n",
        "            print(\"  3) Both\")\n",
        "            v = input(\"> \").strip().lower()\n",
        "            if v in (\"1\", \"temp\", \"temperature\"):\n",
        "                create_temperature_visualisation(result)\n",
        "            elif v in (\"2\", \"rain\", \"precipitation\"):\n",
        "                create_precipitation_visualisation(result)\n",
        "            elif v in (\"3\", \"both\", \"all\", \"1 2\", \"1,2\", \"2 1\", \"2,1\"):\n",
        "                # this helper should be defined in UI (A); if not, call the two functions directly\n",
        "                try:\n",
        "                    create_both_visualisations(result)\n",
        "                except NameError:\n",
        "                    create_temperature_visualisation(result)\n",
        "                    create_precipitation_visualisation(result)\n",
        "            else:\n",
        "                print(\"Choose 1, 2, or 3.\")\n",
        "\n",
        "        elif choice == \"4\":\n",
        "            print(\"Goodbye! ☀️\")\n",
        "            break\n",
        "        else:\n",
        "            print(\"Please choose 1–4.\")\n",
        "\n",
        ""
      ],
      "id": "dd9e1666",
      "execution_count": 15,
      "outputs": []
    },
    {
      "cell_type": "markdown",
      "id": "d643a53c",
      "metadata": {
        "id": "d643a53c"
      },
      "source": [
        "## 🧩 Main Application Logic"
      ]
    },
    {
      "cell_type": "code",
      "execution_count": 42,
      "id": "a9e2e805",
      "metadata": {
        "id": "a9e2e805"
      },
      "outputs": [],
      "source": [
        "# Tie everything together here\n",
        "def run_app():\n",
        "    print(\"🌦️ Welcome to WeatherWise 🌦️\")\n",
        "    print(\"👉 Enter a city (Perth) or PIN/ZIP (6000).\")\n",
        "    while True:\n",
        "        print(\"\\n1) View Forecast  2) Ask a Question  3) Visualise  4) Exit\")\n",
        "        choice = input(\"> \").strip()\n",
        "\n",
        "        if choice == \"1\":\n",
        "            res = get_weather_data(input(\"Enter a city: \").strip())\n",
        "            print_forecast(res)\n",
        "\n",
        "        elif choice == \"2\":\n",
        "            q = input(\"Ask about the weather: \").strip()         # e.g. \"will it rain tomorrow?\"\n",
        "            place = input(\"City or PIN/ZIP: \").strip()           # e.g. \"Perth\"\n",
        "            print(generate_weather_response(f\"{q} in {place}\", get_weather_data))\n",
        "\n",
        "        elif choice == \"3\":\n",
        "            res = get_weather_data(input(\"City to visualise: \").strip())\n",
        "            if \"error\" in res:\n",
        "                print(f\"⚠️ {res['error']}\"); continue\n",
        "            v = input(\"1) Temperature  2) Rain  3) Both > \").strip().lower()\n",
        "            if v in (\"1\",\"temp\",\"temperature\"): create_temperature_visualisation(res)\n",
        "            elif v in (\"2\",\"rain\",\"precip\",\"precipitation\"): create_precipitation_visualisation(res)\n",
        "            elif v in (\"3\",\"both\",\"all\"): create_both_visualisations(res)\n",
        "            else: print(\"Choose 1, 2, or 3.\")\n",
        "\n",
        "        elif choice == \"4\":\n",
        "            print(\"Goodbye! ☀️\")\n",
        "            break\n",
        "        else:\n",
        "            print(\"Please choose 1–4.\")"
      ]
    },
    {
      "cell_type": "markdown",
      "id": "fde44479",
      "metadata": {
        "id": "fde44479"
      },
      "source": [
        "## 🧪 Testing and Examples"
      ]
    },
    {
      "cell_type": "code",
      "execution_count": 43,
      "id": "4e573901",
      "metadata": {
        "id": "4e573901",
        "colab": {
          "base_uri": "https://localhost:8080/",
          "height": 1000
        },
        "outputId": "376183b4-dda9-4fd7-dfae-20f6fc1a16d4"
      },
      "outputs": [
        {
          "name": "stdout",
          "output_type": "stream",
          "text": [
            "🌦️ Welcome to WeatherWise 🌦️\n",
            "👉 Enter a city (Perth) or PIN/ZIP (6000).\n",
            "\n",
            "1) View Forecast  2) Ask a Question  3) Visualise  4) Exit\n",
            "> 3\n",
            "City to visualise: chennai\n",
            "1) Temperature  2) Rain  3) Both > 3\n"
          ]
        },
        {
          "output_type": "display_data",
          "data": {
            "text/plain": [
              "<Figure size 800x450 with 1 Axes>"
            ],
            "image/png": "[encoded data removed]"
          },
          "metadata": {}
        },
        {
          "output_type": "display_data",
          "data": {
            "text/plain": [
              "<Figure size 800x450 with 1 Axes>"
            ],
            "image/png": "[encoded data removed]"
          },
          "metadata": {}
        },
        {
          "output_type": "stream",
          "name": "stdout",
          "text": [
            "\n",
            "1) View Forecast  2) Ask a Question  3) Visualise  4) Exit\n",
            "> 4\n",
            "Goodbye! ☀️\n"
          ]
        }
      ],
      "source": [
        "4\n",
        "# Questions you can ask weatherwise\n",
        "SAMPLE_QUESTIONS = [\n",
        "    # Rain-only\n",
        "    \"Will it rain today in Perth?\",\n",
        "    \"Is rain likely in 6000 tomorrow?\",\n",
        "\n",
        "    # Temperature-only\n",
        "    \"Is it cold tomorrow in Melbourne?\",\n",
        "    \"Temperature in Adelaide in 3 days?\",\n",
        "\n",
        "    # General feel\n",
        "    \"How is the weather today in Perth?\",\n",
        "    \"Weather in Auckland in 4 days?\",\n",
        "]\n",
        "\n",
        "run_app()"
      ]
    }
  ],
  "metadata": {
    "language_info": {
      "name": "python"
    },
    "colab": {
      "provenance": [],
      "include_colab_link": true
    },
    "kernelspec": {
      "name": "python3",
      "display_name": "Python 3"
    }
  },
  "nbformat": 4,
  "nbformat_minor": 5
}