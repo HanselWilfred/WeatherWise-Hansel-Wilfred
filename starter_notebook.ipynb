{
  "cells": [
    {
      "cell_type": "markdown",
      "metadata": {
        "id": "view-in-github",
        "colab_type": "text"
      },
      "source": [
        "<a href=\"https://colab.research.google.com/github/HanselWilfred/WeatherWise-Hansel-Wilfred/blob/main/starter_notebook.ipynb\" target=\"_parent\"><img src=\"https://colab.research.google.com/assets/colab-badge.svg\" alt=\"Open In Colab\"/></a>"
      ]
    },
    {
      "cell_type": "markdown",
      "id": "fa8c7f6c",
      "metadata": {
        "id": "fa8c7f6c"
      },
      "source": [
        "## 🧰 Setup and Imports\n",
        "\n",
        "This section imports commonly used packages and installs any additional tools used in the project.\n",
        "\n",
        "- You may not need all of these unless you're using specific features (e.g. visualisations, advanced prompting).\n",
        "- The notebook assumes the following packages are **pre-installed** in the provided environment or installable via pip:\n",
        "  - `requests`, `matplotlib`, `pyinputplus`\n",
        "  - `fetch-my-weather` (for accessing weather data easily)\n",
        "  - `hands-on-ai` (for AI logging, comparisons, or prompting tools)\n",
        "\n",
        "If you're running this notebook in **Google Colab**, uncomment the following lines to install the required packages.\n"
      ]
    },
    {
      "cell_type": "code",
      "execution_count": null,
      "id": "70c3f3f1",
      "metadata": {
        "id": "70c3f3f1",
        "collapsed": true
      },
      "outputs": [],
      "source": [
        "# 🧪 Optional packages — uncomment if needed in Colab or JupyterHub\n",
        "!pip install fetch-my-weather\n",
        "!pip install hands-on-ai\n",
        "!pip install requests matplotlib pyinputplus\n",
        "\n",
        "\n",
        "\n"
      ]
    },
    {
      "cell_type": "markdown",
      "id": "59ae7543",
      "metadata": {
        "id": "59ae7543"
      },
      "source": [
        "## 📦 Setup and Configuration\n",
        "Import required packages and setup environment."
      ]
    },
    {
      "cell_type": "code",
      "execution_count": null,
      "id": "f1dd051e",
      "metadata": {
        "id": "f1dd051e"
      },
      "outputs": [],
      "source": [
        "import requests\n",
        "import matplotlib.pyplot as plt\n",
        "import pyinputplus as pyip\n",
        "# ✅ Import after installing (if needed)\n",
        "from fetch_my_weather import get_weather\n",
        "#from hands_on_ai.chat import get_response\n",
        "\n",
        "# Add any other setup code here"
      ]
    },
    {
      "cell_type": "markdown",
      "id": "f736ade3",
      "metadata": {
        "id": "f736ade3"
      },
      "source": [
        "## 🌤️ Weather Data Functions"
      ]
    },
    {
      "cell_type": "code",
      "execution_count": null,
      "id": "7a2c7cd0",
      "metadata": {
        "id": "7a2c7cd0"
      },
      "outputs": [],
      "source": [
        "import requests\n",
        "\n",
        "def get_weather_data(location, forecast_days=5):\n",
        "    \"\"\"Return {'location', 'current_temp', 'forecast': [{date, max_temp, min_temp, rain_chance}, ...] }.\"\"\"\n",
        "    # clamp forecast_days 1..5 to be safe for the tester\n",
        "    days = max(1, min(5, int(forecast_days or 5)))\n",
        "\n",
        "    def _clean_location(text):\n",
        "        import re\n",
        "        text = str(text or \"\").strip()\n",
        "        text = re.sub(r\"\\b(tomorrow|today|day after|in\\s+\\d+\\s+days)\\b\", \"\", text, flags=re.I)\n",
        "        text = re.sub(r\"\\s+\", \" \", text).strip()\n",
        "        return text or None\n",
        "\n",
        "    loc = _clean_location(location)\n",
        "    if not loc:\n",
        "        return {}\n",
        "\n",
        "    try:\n",
        "        geo = requests.get(\n",
        "            \"https://geocoding-api.open-meteo.com/v1/search\",\n",
        "            params={\"name\": loc, \"count\": 1, \"language\": \"en\"},\n",
        "            timeout=10\n",
        "        )\n",
        "        geo.raise_for_status()\n",
        "        g = geo.json()\n",
        "        results = g.get(\"results\") or []\n",
        "        if not results:\n",
        "            return {}\n",
        "\n",
        "        lat, lon = results[0][\"latitude\"], results[0][\"longitude\"]\n",
        "        resolved = results[0].get(\"name\") or loc\n",
        "\n",
        "        fc = requests.get(\n",
        "            \"https://api.open-meteo.com/v1/forecast\",\n",
        "            params={\n",
        "                \"latitude\": lat,\n",
        "                \"longitude\": lon,\n",
        "                \"current_weather\": True,\n",
        "                \"daily\": \"temperature_2m_max,temperature_2m_min,precipitation_probability_max\",\n",
        "                \"timezone\": \"auto\",\n",
        "            },\n",
        "            timeout=10\n",
        "        )\n",
        "        fc.raise_for_status()\n",
        "        data = fc.json()\n",
        "\n",
        "        daily = data.get(\"daily\") or {}\n",
        "        times = daily.get(\"time\") or []\n",
        "        if not times:\n",
        "            return {}\n",
        "\n",
        "        out = {\n",
        "            \"location\": resolved,\n",
        "            \"current_temp\": (data.get(\"current_weather\") or {}).get(\"temperature\"),\n",
        "            \"forecast\": []\n",
        "        }\n",
        "        for i in range(min(days, len(times))):\n",
        "            out[\"forecast\"].append({\n",
        "                \"date\": times[i],\n",
        "                \"max_temp\": daily[\"temperature_2m_max\"][i],\n",
        "                \"min_temp\": daily[\"temperature_2m_min\"][i],\n",
        "                \"rain_chance\": (daily.get(\"precipitation_probability_max\") or [None]*len(times))[i],\n",
        "            })\n",
        "        return out\n",
        "    except requests.RequestException:\n",
        "        return {}\n",
        "\n",
        "\n"
      ]
    },
    {
      "cell_type": "markdown",
      "id": "8a744fdc",
      "metadata": {
        "id": "8a744fdc"
      },
      "source": [
        "## 📊 Visualisation Functions"
      ]
    },
    {
      "cell_type": "code",
      "execution_count": null,
      "id": "9dc3bf85",
      "metadata": {
        "id": "9dc3bf85"
      },
      "outputs": [],
      "source": [
        "# Define create_temperature_visualisation() and create_precipitation_visualisation() here\n",
        "import matplotlib.pyplot as plt\n",
        "\n",
        "# 1) Temperature \"band\" (min..max) + simple lines\n",
        "def create_temperature_visualisation(weather_data):\n",
        "    f = weather_data.get(\"forecast\", [])\n",
        "    if not f:\n",
        "        print(\"⚠️ No forecast data to plot.\"); return\n",
        "\n",
        "    dates = [d.get(\"date\") for d in f]\n",
        "    tmin  = [d.get(\"min_temp\") for d in f]\n",
        "    tmax  = [d.get(\"max_temp\") for d in f]\n",
        "\n",
        "    # keep only rows with both numbers\n",
        "    xs, lbls, lo, hi = [], [], [], []\n",
        "    for i, (dt, a, b) in enumerate(zip(dates, tmin, tmax)):\n",
        "        try:\n",
        "            a, b = float(a), float(b)\n",
        "            if b < a: a, b = b, a   # swap if needed\n",
        "            xs.append(i); lbls.append(dt); lo.append(a); hi.append(b)\n",
        "        except:  # None or non-number\n",
        "            continue\n",
        "\n",
        "    if not xs:\n",
        "        print(\"⚠️ No valid temperature values to plot.\"); return\n",
        "\n",
        "    plt.figure(figsize=(8,4.5))\n",
        "    # band between min..max\n",
        "    plt.fill_between(xs, lo, hi, alpha=0.25, label=\"Daily range\")\n",
        "    # simple lines for min/max\n",
        "    plt.plot(xs, hi, marker=\"o\", label=\"Max (°C)\")\n",
        "    plt.plot(xs, lo, marker=\"o\", label=\"Min (°C)\")\n",
        "\n",
        "    plt.title(f\"🌡️ Temperature (Min↔Max) – {weather_data.get('location','')}\")\n",
        "    plt.xlabel(\"Date\"); plt.ylabel(\"°C\")\n",
        "    plt.xticks(xs, lbls, rotation=0)\n",
        "    plt.grid(True, linestyle=\"--\", alpha=0.5)\n",
        "    plt.legend()\n",
        "    plt.tight_layout(); plt.show()\n",
        "\n"
      ]
    },
    {
      "cell_type": "code",
      "source": [
        "\n",
        "# 2) Rain \"lollipop\" chart (line + circle with % label)\n",
        "def create_precipitation_visualisation(weather_data):\n",
        "    f = weather_data.get(\"forecast\", [])\n",
        "    if not f:\n",
        "        print(\"⚠️ No forecast data to plot.\"); return\n",
        "\n",
        "    dates = [d.get(\"date\") for d in f]\n",
        "    rain  = [d.get(\"rain_chance\") for d in f]\n",
        "\n",
        "    xs, lbls, vals = [], [], []\n",
        "    for i, (dt, r) in enumerate(zip(dates, rain)):\n",
        "        try:\n",
        "            v = float(r)\n",
        "            v = max(0, min(100, v))  # clamp 0..100\n",
        "            xs.append(i); lbls.append(dt); vals.append(v)\n",
        "        except:\n",
        "            continue\n",
        "\n",
        "    if not xs:\n",
        "        print(\"⚠️ No valid rain chance values to plot.\"); return\n",
        "\n",
        "    plt.figure(figsize=(8,4.5))\n",
        "    for x, v in zip(xs, vals):\n",
        "        plt.vlines(x, 0, v, linewidth=2)    # stem\n",
        "        plt.scatter(x, v, s=60, zorder=3)   # head\n",
        "        plt.text(x, v+2, f\"{v:.0f}%\", ha=\"center\", fontsize=8)\n",
        "\n",
        "    plt.title(f\"🌧️ Rain Chance (next days) – {weather_data.get('location','')}\")\n",
        "    plt.xlabel(\"Date\"); plt.ylabel(\"Rain Chance (%)\")\n",
        "    plt.xticks(xs, lbls); plt.ylim(0, 100)\n",
        "    plt.grid(axis=\"y\", linestyle=\"--\", alpha=0.5)\n",
        "    plt.tight_layout(); plt.show()"
      ],
      "metadata": {
        "id": "HpOlQylYG5Ho"
      },
      "id": "HpOlQylYG5Ho",
      "execution_count": null,
      "outputs": []
    },
    {
      "cell_type": "markdown",
      "id": "9f95d160",
      "metadata": {
        "id": "9f95d160"
      },
      "source": [
        "## 🤖 Natural Language Processing"
      ]
    },
    {
      "cell_type": "code",
      "execution_count": null,
      "id": "bcc5833e",
      "metadata": {
        "id": "bcc5833e"
      },
      "outputs": [],
      "source": [
        "# Define parse_weather_question() and generate_weather_response() here\n",
        "import re\n",
        "\n",
        "def _clean_location(text: str) -> str | None:\n",
        "    if not text:\n",
        "        return None\n",
        "    # remove time words/phrases\n",
        "    text = re.sub(r\"\\b(tomorrow|today|day after|in\\s+\\d+\\s+days)\\b\", \"\", text, flags=re.I)\n",
        "    # squeeze spaces and strip\n",
        "    text = re.sub(r\"\\s+\", \" \", text).strip()\n",
        "    return text.title() if text else None\n",
        "\n",
        "def parse_weather_question(q: str):\n",
        "    q = q.lower().strip()\n",
        "\n",
        "    # day\n",
        "    day = 2 if \"day after\" in q else 1 if \"tomorrow\" in q else 0\n",
        "    m = re.search(r\"\\bin\\s+(\\d+)\\s+days\\b\", q)\n",
        "    if m:\n",
        "        day = max(0, min(4, int(m.group(1))))\n",
        "\n",
        "    # attribute\n",
        "    attr = \"temperature\" if any(w in q for w in [\"temp\", \"temperature\", \"hot\", \"cold\", \"warm\", \"cool\"]) else \"rain\"\n",
        "\n",
        "    # location by PIN/ZIP first\n",
        "    pin = re.search(r\"\\b\\d{3,6}\\b\", q)\n",
        "    if pin:\n",
        "        return {\"location\": pin.group(0), \"day\": day, \"attribute\": attr}\n",
        "\n",
        "    # location after \"in ...\" but stop BEFORE punctuation/time words\n",
        "    m = re.search(\n",
        "        r\"\\bin\\s+([a-z0-9\\s\\-]+?)(?=(?:\\?|\\.|,|$|\\s+tomorrow|\\s+today|\\s+day after|\\s+in\\s+\\d+\\s+days))\",\n",
        "        q,\n",
        "    )\n",
        "    loc = _clean_location(m.group(1)) if m else None\n",
        "\n",
        "    return {\"location\": loc, \"day\": day, \"attribute\": attr}\n",
        "\n"
      ]
    },
    {
      "cell_type": "markdown",
      "id": "0d85225e",
      "metadata": {
        "id": "0d85225e"
      },
      "source": [
        "## 🧭 User Interface"
      ]
    },
    {
      "cell_type": "code",
      "execution_count": null,
      "id": "fa6cb0f6",
      "metadata": {
        "id": "fa6cb0f6"
      },
      "outputs": [],
      "source": [
        "# Define menu functions using pyinputplus or ipywidgets here\n",
        "import pyinputplus as pyip\n",
        "\n",
        "def main_menu():\n",
        "    while True:\n",
        "        choice = pyip.inputMenu(\n",
        "            [\"View Forecast\", \"Ask a Question\", \"Visualise Data\", \"Exit\"],\n",
        "            numbered=True\n",
        "        )\n",
        "\n",
        "        if choice == \"View Forecast\":\n",
        "            location = pyip.inputStr(\"Enter a city: \")\n",
        "            weather = get_weather_data(location)\n",
        "            print(f\"📍 {weather['location']} | 🌡️ {weather['current_temp']}°C\")\n",
        "            for f in weather[\"forecast\"]:\n",
        "                print(f\"{f['date']}: {f['min_temp']}–{f['max_temp']}°C, Rain chance {f['rain_chance']}%\")\n",
        "\n",
        "        elif choice == \"Ask a Question\":\n",
        "    q = pyip.inputStr(\"Ask me about the weather: \")\n",
        "    p = parse_weather_question(q)\n",
        "\n",
        "    loc = p.get(\"location\")\n",
        "    if not loc:\n",
        "        loc = pyip.inputStr(\"Which city or PIN/ZIP? (e.g., Chennai or 6000): \")\n",
        "    p[\"location\"] = loc\n",
        "\n",
        "    d = get_weather_data(loc)\n",
        "    if not d or not d.get(\"forecast\"):\n",
        "        print(\"🤖 Sorry, I couldn’t get that location. Try a different city or a PIN/ZIP.\")\n",
        "    else:\n",
        "        print(\"🤖\", generate_weather_response(p, d))\n",
        "\n",
        "\n",
        "        elif choice == \"Visualise Data\":\n",
        "            location = pyip.inputStr(\"Enter a city for charts: \")\n",
        "            weather = get_weather_data(location)\n",
        "            create_temperature_visualisation(weather)\n",
        "            create_precipitation_visualisation(weather)\n",
        "\n",
        "        elif choice == \"Exit\":\n",
        "            print(\"Goodbye!\")\n",
        "            break"
      ]
    },
    {
      "cell_type": "code",
      "metadata": {
        "id": "dd9e1666"
      },
      "source": [
        "def generate_weather_response(parsed_q, weather_data):\n",
        "    \"\"\"Generates a natural language response based on parsed query and weather data.\"\"\"\n",
        "    if \"error\" in weather_data:\n",
        "        return weather_data[\"error\"]\n",
        "\n",
        "    location = weather_data[\"location\"]\n",
        "    day = parsed_q.get(\"day\", 0)\n",
        "    attribute = parsed_q.get(\"attribute\", \"temperature\")\n",
        "\n",
        "    if day >= len(weather_data[\"forecast\"]):\n",
        "        return f\"Sorry, I only have a 5-day forecast for {location}.\"\n",
        "\n",
        "    forecast = weather_data[\"forecast\"][day]\n",
        "    date = forecast[\"date\"]\n",
        "\n",
        "    if attribute == \"temperature\":\n",
        "        return f\"The temperature forecast for {location} on {date} is a high of {forecast['max_temp']}°C and a low of {forecast['min_temp']}°C.\"\n",
        "    elif attribute == \"rain\":\n",
        "        return f\"The chance of rain in {location} on {date} is {forecast['rain_chance']}%.\"\n",
        "    else:\n",
        "        return \"Sorry, I can only provide information on temperature and rain.\""
      ],
      "id": "dd9e1666",
      "execution_count": null,
      "outputs": []
    },
    {
      "cell_type": "markdown",
      "id": "d643a53c",
      "metadata": {
        "id": "d643a53c"
      },
      "source": [
        "## 🧩 Main Application Logic"
      ]
    },
    {
      "cell_type": "code",
      "execution_count": null,
      "id": "a9e2e805",
      "metadata": {
        "id": "a9e2e805"
      },
      "outputs": [],
      "source": [
        "# Tie everything together here\n",
        "def run_app():\n",
        "    print(\"🌦️ Welcome to WeatherWise 🌦️\")\n",
        "    print(\"👉 You can enter either a city name (e.g., Perth, Sydney) OR a PIN/ZIP code (e.g., 6000, 10001).\")\n",
        "    main_menu()\n",
        "\n"
      ]
    },
    {
      "cell_type": "markdown",
      "id": "fde44479",
      "metadata": {
        "id": "fde44479"
      },
      "source": [
        "## 🧪 Testing and Examples"
      ]
    },
    {
      "cell_type": "code",
      "execution_count": null,
      "id": "4e573901",
      "metadata": {
        "id": "4e573901",
        "colab": {
          "base_uri": "https://localhost:8080/",
          "height": 1000
        },
        "outputId": "abd2f9a5-7ed6-4a05-a83c-bbf6b72f1999"
      },
      "outputs": [
        {
          "metadata": {
            "tags": null
          },
          "name": "stdout",
          "output_type": "stream",
          "text": [
            "🌦️ Welcome to WeatherWise 🌦️\n",
            "👉 You can enter either a city name (e.g., Perth, Sydney) OR a PIN/ZIP code (e.g., 6000, 10001).\n",
            "Please select one of the following:\n",
            "1. View Forecast\n",
            "2. Ask a Question\n",
            "3. Visualise Data\n",
            "4. Exit\n",
            "Enter a city for charts: "
          ]
        },
        {
          "data": {
            "image/png": "[encoded data removed]",
            "text/plain": [
              "<Figure size 640x480 with 1 Axes>"
            ]
          },
          "metadata": {},
          "output_type": "display_data"
        },
        {
          "data": {
            "image/png": "[encoded data removed]",
            "text/plain": [
              "<Figure size 640x480 with 1 Axes>"
            ]
          },
          "metadata": {},
          "output_type": "display_data"
        },
        {
          "metadata": {
            "tags": null
          },
          "name": "stdout",
          "output_type": "stream",
          "text": [
            "Please select one of the following:\n",
            "1. View Forecast\n",
            "2. Ask a Question\n",
            "3. Visualise Data\n",
            "4. Exit\n"
          ]
        }
      ],
      "source": [
        "# Include sample input/output for each function\n",
        "run_app()"
      ]
    },
    {
      "cell_type": "markdown",
      "id": "d2885880",
      "metadata": {
        "id": "d2885880"
      },
      "source": [
        "## 🗂️ AI Prompting Log (Optional)\n",
        "Add markdown cells here summarising prompts used or link to AI conversations in the `ai-conversations/` folder."
      ]
    }
  ],
  "metadata": {
    "language_info": {
      "name": "python"
    },
    "colab": {
      "provenance": [],
      "include_colab_link": true
    },
    "kernelspec": {
      "name": "python3",
      "display_name": "Python 3"
    }
  },
  "nbformat": 4,
  "nbformat_minor": 5
}