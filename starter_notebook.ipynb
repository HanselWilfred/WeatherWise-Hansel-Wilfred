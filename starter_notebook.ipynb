{
  "cells": [
    {
      "cell_type": "markdown",
      "metadata": {
        "id": "view-in-github",
        "colab_type": "text"
      },
      "source": [
        "<a href=\"https://colab.research.google.com/github/HanselWilfred/WeatherWise-Hansel-Wilfred/blob/main/starter_notebook.ipynb\" target=\"_parent\"><img src=\"https://colab.research.google.com/assets/colab-badge.svg\" alt=\"Open In Colab\"/></a>"
      ]
    },
    {
      "cell_type": "code",
      "execution_count": null,
      "id": "70c3f3f1",
      "metadata": {
        "id": "70c3f3f1",
        "collapsed": true
      },
      "outputs": [],
      "source": [
        "# 🧪 Optional packages — uncomment if needed in Colab or JupyterHub\n",
        "!pip install fetch-my-weather\n",
        "!pip install requests matplotlib pyinputplus\n",
        "\n",
        "\n",
        "\n",
        "\n",
        "\n"
      ]
    },
    {
      "cell_type": "markdown",
      "id": "59ae7543",
      "metadata": {
        "id": "59ae7543"
      },
      "source": [
        "## 📦 Setup and Configuration\n",
        "Import required packages and setup environment."
      ]
    },
    {
      "cell_type": "code",
      "execution_count": null,
      "id": "f1dd051e",
      "metadata": {
        "id": "f1dd051e"
      },
      "outputs": [],
      "source": [
        "import requests\n",
        "import matplotlib.pyplot as plt\n",
        "import pyinputplus as pyip\n",
        "from fetch_my_weather import get_weather\n",
        "\n",
        "# Add any other setup code here"
      ]
    },
    {
      "cell_type": "markdown",
      "id": "f736ade3",
      "metadata": {
        "id": "f736ade3"
      },
      "source": [
        "## 🌤️ Weather Data Functions"
      ]
    },
    {
      "cell_type": "code",
      "execution_count": null,
      "id": "7a2c7cd0",
      "metadata": {
        "id": "7a2c7cd0"
      },
      "outputs": [],
      "source": [
        "# ==== WeatherWise: ====\n",
        "import requests, re\n",
        "def get_weather_data(loc, forecast_days=5):\n",
        "    try:\n",
        "        days = max(1, min(5, int(forecast_days or 5)))\n",
        "        loc = re.sub(r\"\\b(tomorrow|today|day after|in\\s+\\d+\\s+days)\\b\", \"\", str(loc), flags=re.I)\n",
        "        loc = re.sub(r\"\\s+\", \" \", loc).strip()\n",
        "        if not loc: return {}\n",
        "        g = requests.get(\n",
        "            \"https://geocoding-api.open-meteo.com/v1/search\",\n",
        "            params={\"name\": loc, \"count\":1, \"language\": \"en\"},\n",
        "            timeout=10\n",
        "        )\n",
        "        g.raise_for_status()\n",
        "        hits = (g.json().get(\"results\") or [])\n",
        "        if not hits: return {}\n",
        "        lat, lon = hits[0][\"latitude\"], hits[0][\"longitude\"]\n",
        "        city = hits[0].get(\"name\", loc)\n",
        "        f = requests.get(\n",
        "            \"https://api.open-meteo.com/v1/forecast\",\n",
        "            params={\"latitude\": lat, \"longitude\": lon, \"timezone\": \"auto\",\n",
        "                    \"current_weather\": True,\n",
        "                    \"daily\": \"temperature_2m_max,temperature_2m_min,precipitation_probability_max\"},\n",
        "            timeout=10\n",
        "        )\n",
        "        f.raise_for_status()\n",
        "        d = f.json().get(\"daily\", {})\n",
        "        dates, tmax, tmin, rain = d.get(\"time\", []), d.get(\"temperature_2m_max\", []), d.get(\"temperature_2m_min\", []), d.get(\"precipitation_probability_max\", [])\n",
        "        n = min(days, len(dates))\n",
        "        fc = [{\"date\": dates[i], \"max_temp\": tmax[i], \"min_temp\": tmin[i], \"rain_chance\": rain[i]} for i in range(n)]\n",
        "        return {\"location\": city, \"current_temp\": f.json().get(\"current_weather\", {}).get(\"temperature\"), \"forecast\": fc}\n",
        "    except Exception:\n",
        "        return {}\n",
        "\n",
        "\n",
        "\n"
      ]
    },
    {
      "cell_type": "markdown",
      "id": "8a744fdc",
      "metadata": {
        "id": "8a744fdc"
      },
      "source": [
        "## 📊 Visualisation Functions"
      ]
    },
    {
      "cell_type": "code",
      "execution_count": null,
      "id": "9dc3bf85",
      "metadata": {
        "id": "9dc3bf85"
      },
      "outputs": [],
      "source": [
        "import matplotlib.pyplot as plt\n",
        "from mpl_toolkits.mplot3d import Axes3D\n",
        "import numpy as np\n",
        "from datetime import datetime\n",
        "\n",
        "def matplotlib_3d_temperature(weather_data):\n",
        "    if not weather_data or \"error\" in weather_data or not weather_data.get(\"forecast\"):\n",
        "        print(\"No data to visualise.\"); return\n",
        "    fc = weather_data['forecast']\n",
        "    dates = [datetime.strptime(d['date'], \"%Y-%m-%d\") for d in fc]\n",
        "    tmin = [d['min_temp'] for d in fc]\n",
        "    tmax = [d['max_temp'] for d in fc]\n",
        "\n",
        "    fig = plt.figure(figsize=(8,6))\n",
        "    ax = fig.add_subplot(111, projection='3d')\n",
        "\n",
        "    # Assign numeric values for date axis\n",
        "    date_nums = np.arange(len(dates))\n",
        "    ax.plot(date_nums, tmin, zs=0, zdir='y', label='Min Temp', color='blue', marker='o')\n",
        "    ax.plot(date_nums, tmax, zs=1, zdir='y', label='Max Temp', color='red', marker='o')\n",
        "\n",
        "    # Set axes and labels\n",
        "    ax.set_xlabel('Date')\n",
        "    ax.set_ylabel('Temp Type')\n",
        "    ax.set_zlabel('Temperature (°C)')\n",
        "    ax.set_xticks(date_nums)\n",
        "    ax.set_xticklabels([d.strftime(\"%d %b\") for d in dates])\n",
        "    ax.set_yticks([0,1])\n",
        "    ax.set_yticklabels(['Min Temp', 'Max Temp'])\n",
        "    ax.set_title(f\"3D Min/Max Temperature — {weather_data.get('location','Location')}\")\n",
        "    ax.legend()\n",
        "    plt.show()\n",
        "\n",
        "\n",
        "\n",
        "\n"
      ]
    },
    {
      "cell_type": "code",
      "source": [
        "# 2\n",
        "\n",
        "def matplotlib_bar_rain(weather_data):\n",
        "    if not weather_data or \"error\" in weather_data or not weather_data.get(\"forecast\"):\n",
        "        print(\"No data to visualise.\"); return\n",
        "    import matplotlib.pyplot as plt\n",
        "    from datetime import datetime\n",
        "\n",
        "    fc = weather_data['forecast']\n",
        "    rain = [float(d.get('rain_chance', 0)) for d in fc]\n",
        "    dates = [datetime.strptime(d['date'], \"%Y-%m-%d\").strftime(\"%d %b\") for d in fc]\n",
        "\n",
        "    fig, ax = plt.subplots(figsize=(1.3 * len(dates), 5))\n",
        "    bars = ax.bar(dates, rain, color='skyblue', edgecolor='navy')\n",
        "    for rect, val in zip(bars, rain):\n",
        "        ax.text(rect.get_x() + rect.get_width()/2, val + 2,\n",
        "                f\"{int(val)}%\", ha='center', va='bottom', fontsize=10)\n",
        "    ax.set_ylabel('Chance of Rain (%)')\n",
        "    ax.set_ylim(0, 100)\n",
        "    ax.set_title(f\"Rain Chance per Day — {weather_data.get('location','Location')}\")\n",
        "    plt.tight_layout()\n",
        "    plt.show()\n",
        "\n",
        "\n",
        "\n"
      ],
      "metadata": {
        "id": "HpOlQylYG5Ho"
      },
      "id": "HpOlQylYG5Ho",
      "execution_count": null,
      "outputs": []
    },
    {
      "cell_type": "markdown",
      "id": "9f95d160",
      "metadata": {
        "id": "9f95d160"
      },
      "source": [
        "## 🤖 Natural Language Processing"
      ]
    },
    {
      "cell_type": "code",
      "execution_count": null,
      "id": "bcc5833e",
      "metadata": {
        "id": "bcc5833e"
      },
      "outputs": [],
      "source": [
        "# === Section 2: NLP + Response (with formatted dates) ===\n",
        "import re\n",
        "from datetime import datetime\n",
        "\n",
        "def parse_weather_question(q):\n",
        "    q = (q or \"\").lower().strip()\n",
        "    day = 2 if (\"day after tomorrow\" in q or \"day after\" in q) else 1 if \"tomorrow\" in q else 0\n",
        "    m = re.search(r\"\\bin\\s+(\\d+)\\s+day(s)?\\b\", q)\n",
        "    if m:\n",
        "        try: day = max(0, min(4, int(m.group(1))))\n",
        "        except: pass\n",
        "    attr = \"rain\" if any(w in q for w in [\"rain\", \"rainy\", \"umbrella\", \"drizzle\", \"shower\"]) else \"temperature\" if any(w in q for w in [\"temp\", \"hot\", \"cold\", \"warm\", \"cool\", \"chill\"]) else \"general\"\n",
        "    pin = re.search(r\"\\b\\d{3,6}\\b\", q)\n",
        "    if pin: return {\"location\": pin.group(0), \"day\": day, \"attribute\": attr}\n",
        "    m = re.search(r\"\\bin\\s+([a-z0-9\\s\\-]+?)(?=(?:\\?|\\.|,|$|\\s+tomorrow|\\s+today|\\s+day after|\\s+in\\s+\\d+\\s+day[s]?))\", q)\n",
        "    loc = None\n",
        "    if m:\n",
        "        loc = re.sub(r\"\\b(tomorrow|today|day after tomorrow|day after|in\\s+\\d+\\s+day[s]?)\\b\", \"\", m.group(1), flags=re.I).strip().title()\n",
        "        if not loc: loc = None\n",
        "    return {\"location\": loc, \"day\": day, \"attribute\": attr}\n",
        "\n",
        "def generate_weather_response(parsed_question, data):\n",
        "    loc, day, attr = parsed_question.get(\"location\"), parsed_question.get(\"day\",0), parsed_question.get(\"attribute\",\"general\")\n",
        "    if not loc: return \"Please tell me a city or PIN/ZIP (e.g., 'weather in Perth').\"\n",
        "    if not data or \"error\" in data: return data.get(\"error\", \"Sorry, I couldn't get the weather right now.\")\n",
        "    fc = data.get(\"forecast\") or []\n",
        "    if not fc: return \"No forecast available right now.\"\n",
        "    i = min(day, len(fc)-1)\n",
        "    d = fc[i]\n",
        "    city = data.get(\"location\", loc)\n",
        "    date = d.get(\"date\", \"that day\")\n",
        "    try: date = datetime.strptime(date, \"%Y-%m-%d\").strftime(\"%d %b %Y\")\n",
        "    except: pass\n",
        "    mx, mn = d.get(\"max_temp\"), d.get(\"min_temp\")\n",
        "    rc = d.get(\"rain_chance\")\n",
        "    t = mx if mx is not None else mn\n",
        "    def temp_phrase(x):\n",
        "        if x is None: return \"temperature unavailable\"\n",
        "        return \"hot and sunny\" if x >= 35 else \"cool and pleasant\" if x >= 15 else \"cold\"\n",
        "    def rain_phrase(v):\n",
        "        if v is None: return \"No rain info.\"\n",
        "        if v >= 50: return f\"Yes, likely — rain {int(v)}%.\"\n",
        "        if v >= 20: return f\"Possible — rain {int(v)}%.\"\n",
        "        return f\"Unlikely — rain {int(v)}%.\"\n",
        "    if attr == \"rain\": return f\"In {city} on {date}: {rain_phrase(rc)}\"\n",
        "    msg = f\"In {city} on {date}: {temp_phrase(t)}\"\n",
        "    if t is not None: msg += f\" (around {round(t)}°C)\"\n",
        "    if rc is not None and rc >=30: msg += f\", rain {int(rc)}%.\"\n",
        "    else: msg += \".\"\n",
        "    return msg\n"
      ]
    },
    {
      "cell_type": "markdown",
      "id": "0d85225e",
      "metadata": {
        "id": "0d85225e"
      },
      "source": [
        "## 🧭 User Interface"
      ]
    },
    {
      "cell_type": "code",
      "execution_count": null,
      "id": "fa6cb0f6",
      "metadata": {
        "id": "fa6cb0f6"
      },
      "outputs": [],
      "source": [
        "# === UI (A):\n",
        "\n",
        "from mpl_toolkits.mplot3d import Axes3D\n",
        "import matplotlib.pyplot as plt\n",
        "import numpy as np\n",
        "from datetime import datetime\n",
        "\n",
        "def print_forecast(res):\n",
        "    if not res or \"error\" in res:\n",
        "        print(f\"⚠️ {res.get('error','No data')}\")\n",
        "        return\n",
        "    cur = res.get('current_temp')\n",
        "    print(f\"📍 {res['location']} | 🌡️ {cur}°C\" if isinstance(cur, (int,float)) else \"N/A\")\n",
        "    for f in res.get(\"forecast\", []):\n",
        "        d = f.get('date','')\n",
        "        try: d = datetime.strptime(d, \"%Y-%m-%d\").strftime(\"%d %b\")\n",
        "        except: pass\n",
        "        temp = f.get(\"min_temp\") if isinstance(f.get(\"min_temp\"), (int,float)) else f.get(\"max_temp\") if isinstance(f.get(\"max_temp\"), (int,float)) else None\n",
        "        emoji = \"🔥\" if temp and temp >= 35 else \"🙂\" if temp and temp >= 15 else \"🥶\"\n",
        "        temp_str = f\"{f.get('min_temp'):.1f}–{f.get('max_temp'):.1f}°C\" if all(isinstance(t, (int,float)) for t in [f.get(\"min_temp\"), f.get(\"max_temp\")]) else \"temp N/A\"\n",
        "        rc = f.get(\"rain_chance\")\n",
        "        try: rcv = float(rc)\n",
        "        except: rcv = None\n",
        "        rain_note = f\" (rain {int(rcv)}%)\" if rcv and rcv >=30 else \"\"\n",
        "        print(f\"{d}: {temp_str} {emoji}{rain_note}\")\n",
        "\n",
        "def create_temperature_visualisation(res):\n",
        "    if not res or \"error\" in res or not res.get(\"forecast\"):\n",
        "        print(\"No data\")\n",
        "        return\n",
        "    fc = res[\"forecast\"]\n",
        "    dates = [datetime.strptime(r[\"date\"], \"%Y-%m-%d\") for r in fc]\n",
        "    tmin = [r.get(\"min_temp\") for r in fc]\n",
        "    tmax = [r.get(\"max_temp\") for r in fc]\n",
        "\n",
        "    fig = plt.figure(figsize=(8,6))\n",
        "    ax = fig.add_subplot(111, projection=\"3d\")\n",
        "\n",
        "    date_nums = np.arange(len(dates))\n",
        "    ax.plot(date_nums, [0]*len(dates), tmin, color=\"blue\", marker=\"o\", label=\"Min Temp\")\n",
        "    ax.plot(date_nums, [1]*len(dates), tmax, color=\"red\", marker=\"o\", label=\"Max Temp\")\n",
        "\n",
        "    ax.set_xlabel(\"Date\")\n",
        "    ax.set_ylabel(\"Temp Type\")\n",
        "    ax.set_zlabel(\"Temperature (°C)\")\n",
        "    ax.set_xticks(date_nums)\n",
        "    ax.set_xticklabels([d.strftime(\"%d %b\") for d in dates])\n",
        "    ax.set_yticks([0,1])\n",
        "    ax.set_yticklabels([\"Min\", \"Max\"])\n",
        "    ax.set_title(f\"3D Min/Max Temp — {res.get('location','Location')}\")\n",
        "    ax.legend()\n",
        "    plt.show()\n",
        "\n"
      ]
    },
    {
      "cell_type": "code",
      "metadata": {
        "id": "dd9e1666"
      },
      "source": [
        "# === UI (B):\n",
        "\n",
        "def create_precipitation_visualisation(res):\n",
        "    if not res or \"error\" in res or not res.get(\"forecast\"):\n",
        "        print(\"No data\")\n",
        "        return\n",
        "    fc = res[\"forecast\"]\n",
        "    xs = range(len(fc))\n",
        "    dates = [datetime.strptime(r[\"date\"], \"%Y-%m-%d\").strftime(\"%d %b\") for r in fc]\n",
        "    rainp = [max(0, min(100, float(r.get(\"rain_chance\",0)))) for r in fc]\n",
        "    plt.fill_between(xs, 0, rainp, alpha=0.15)\n",
        "    plt.plot(xs, rainp, linewidth=2)\n",
        "    for x, v in zip(xs, rainp):\n",
        "        plt.vlines(x, 0, v)\n",
        "        plt.scatter(x, v, s=50)\n",
        "        plt.text(x, v+2, f\"{int(v)}%\", ha=\"center\", fontsize=8)\n",
        "    plt.title(f\"Rain Chance — {res.get('location')}\")\n",
        "    plt.ylim(0, 100)\n",
        "    plt.xticks(xs, dates)\n",
        "    plt.tight_layout()\n",
        "    plt.show()\n",
        "\n",
        "def create_both_visualisations(res):\n",
        "    create_temperature_visualisation(res)\n",
        "    create_precipitation_visualisation(res)\n",
        "\n",
        "\n"
      ],
      "id": "dd9e1666",
      "execution_count": null,
      "outputs": []
    },
    {
      "cell_type": "markdown",
      "id": "d643a53c",
      "metadata": {
        "id": "d643a53c"
      },
      "source": [
        "## 🧩 Main Application Logic"
      ]
    },
    {
      "cell_type": "code",
      "execution_count": null,
      "id": "a9e2e805",
      "metadata": {
        "id": "a9e2e805"
      },
      "outputs": [],
      "source": [
        "# Tie everything together here\n",
        "def run_app():\n",
        "    print(\"🌦️ Welcome to WeatherWise 🌦️\")\n",
        "    print(\"Enter city name or PIN/ZIP.\")\n",
        "    while True:\n",
        "        print(\"\\nOptions:\\n1. View Forecast\\n2. Ask Question\\n3. Visualise Data\\n4. Exit\")\n",
        "        c = input(\"> \").strip()\n",
        "        if c == \"1\":\n",
        "            p = input(\"City or PIN/ZIP: \").strip()\n",
        "            print_forecast(get_weather_data(p))\n",
        "        elif c == \"2\":\n",
        "            q = input(\"Ask about weather: \").strip()\n",
        "            info = parse_weather_question(q)\n",
        "            p = info.get(\"location\")\n",
        "            if not p:\n",
        "                p = input(\"City or PIN/ZIP: \").strip()\n",
        "                q = f\"{q} in {p}\"\n",
        "            print(generate_weather_response(q, get_weather_data))\n",
        "        elif c == \"3\":\n",
        "            p = input(\"City to visualise: \").strip()\n",
        "            res = get_weather_data(p)\n",
        "            if not res or \"error\" in res:\n",
        "                print(f\"⚠️ {res.get('error','No data')}\")\n",
        "                continue\n",
        "\n",
        "            print(\"1) Temperature  2) Rain Chance 3) Both\")\n",
        "            v = input(\"> \").strip().lower()\n",
        "\n",
        "            if v in (\"1\", \"temp\", \"temperature\"):\n",
        "                create_temperature_visualisation(res)\n",
        "            elif v in (\"2\", \"rain\", \"precip\", \"precipitation\", \"violin\"):\n",
        "                matplotlib_violin_rain(res)\n",
        "            elif v in (\"3\", \"both\", \"all\"):\n",
        "                create_temperature_visualisation(res)\n",
        "                matplotlib_violin_rain(res)\n",
        "            else:\n",
        "                print(\"Choose 1, 2, or 3.\")\n",
        "        elif c == \"4\":\n",
        "            print(\"Goodbye! ☀️\")\n",
        "            break\n",
        "        else:\n",
        "            print(\"Choose 1–4.\")\n",
        "\n"
      ]
    },
    {
      "cell_type": "markdown",
      "id": "fde44479",
      "metadata": {
        "id": "fde44479"
      },
      "source": [
        "## 🧪 Testing and Examples"
      ]
    },
    {
      "cell_type": "code",
      "execution_count": null,
      "id": "4e573901",
      "metadata": {
        "id": "4e573901"
      },
      "outputs": [],
      "source": [
        "4\n",
        "# Questions you can ask weatherwise\n",
        "SAMPLE_QUESTIONS = [\n",
        "    # Rain-only\n",
        "    \"Will it rain today?\",\n",
        "    \"Is rain likely in Chennai tomorrow?\",\n",
        "\n",
        "    # Temperature-only\n",
        "    \"Is it cold tomorrow in Melbourne?\",\n",
        "    \"Temperature in Adelaide?\",\n",
        "    \"Tell me the weather in 6000?\",\n",
        "\n",
        "    # General feel\n",
        "    \"How is the weather?\",\n",
        "    \"Show me the temperature in Brisbane in 2 days?\",\n",
        "    \"Do I need an umbrella tomorrow in Perth?\",\n",
        "\n",
        "]\n",
        "\n",
        "run_app()"
      ]
    }
  ],
  "metadata": {
    "language_info": {
      "name": "python"
    },
    "colab": {
      "provenance": [],
      "include_colab_link": true
    },
    "kernelspec": {
      "name": "python3",
      "display_name": "Python 3"
    }
  },
  "nbformat": 4,
  "nbformat_minor": 5
}